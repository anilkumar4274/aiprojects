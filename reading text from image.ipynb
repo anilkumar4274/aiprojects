{
 "cells": [
  {
   "cell_type": "code",
   "execution_count": 5,
   "metadata": {},
   "outputs": [
    {
     "name": "stdout",
     "output_type": "stream",
     "text": [
      "Project name one\n",
      "\n",
      "Super awesome\n",
      "marketing speak!\n",
      "\n",
      "Cras justo odio, dapibus ac facilisis in, egestas eget quam. Fusce dapibus,\n",
      "tellus ac cursus commodo, tortor mauris condimentum nibh, ut fermentum\n",
      "massa justo sit amet risus.\n",
      "\n",
      "Subheading Subheading\n",
      "‘Subheading Subheading\n",
      "\n",
      "Subh\n",
      "\n",
      " \n",
      "\n",
      "Subheading\n"
     ]
    }
   ],
   "source": [
    "from PIL import Image\n",
    "import PIL.Image\n",
    "\n",
    "from pytesseract import image_to_string\n",
    "import pytesseract\n",
    "\n",
    "pytesseract.pytesseract.tesseract_cmd = r'C:\\Users\\shreya\\Desktop\\tessaract\\tesseract'  \n",
    "TESSDATA_PREFIX = r'C:\\Users\\shreya\\Desktop\\tessaract\\tesseract'  \n",
    "output = pytesseract.image_to_string(PIL.Image.open(r'C:\\\\Users\\\\shreya\\\\Desktop\\\\open\\\\images.png').convert(\"RGB\"), lang='eng')\n",
    "print (output)"
   ]
  },
  {
   "cell_type": "code",
   "execution_count": null,
   "metadata": {},
   "outputs": [],
   "source": []
  },
  {
   "cell_type": "code",
   "execution_count": null,
   "metadata": {},
   "outputs": [],
   "source": []
  },
  {
   "cell_type": "code",
   "execution_count": null,
   "metadata": {},
   "outputs": [],
   "source": []
  },
  {
   "cell_type": "code",
   "execution_count": null,
   "metadata": {},
   "outputs": [],
   "source": []
  },
  {
   "cell_type": "code",
   "execution_count": null,
   "metadata": {},
   "outputs": [],
   "source": []
  },
  {
   "cell_type": "code",
   "execution_count": null,
   "metadata": {},
   "outputs": [],
   "source": []
  }
 ],
 "metadata": {
  "kernelspec": {
   "display_name": "Python 3",
   "language": "python",
   "name": "python3"
  },
  "language_info": {
   "codemirror_mode": {
    "name": "ipython",
    "version": 3
   },
   "file_extension": ".py",
   "mimetype": "text/x-python",
   "name": "python",
   "nbconvert_exporter": "python",
   "pygments_lexer": "ipython3",
   "version": "3.7.3"
  }
 },
 "nbformat": 4,
 "nbformat_minor": 2
}
