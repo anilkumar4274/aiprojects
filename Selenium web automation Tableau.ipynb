{
 "cells": [
  {
   "cell_type": "code",
   "execution_count": 5,
   "metadata": {},
   "outputs": [],
   "source": [
    "from selenium import webdriver"
   ]
  },
  {
   "cell_type": "code",
   "execution_count": 6,
   "metadata": {},
   "outputs": [],
   "source": [
    "driver = webdriver.Chrome(r\"C:\\Users\\shreya\\Desktop\\softwares\\chromedriver.exe\")"
   ]
  },
  {
   "cell_type": "code",
   "execution_count": 7,
   "metadata": {},
   "outputs": [],
   "source": [
    "driver.get (\"https://identity.idp.tableau.com/login?state=g6Fo2SBxQlVkUWlEZUM2RTRvNUFNT3Y4UzRDa1VsRHFLeV8zVaN0aWTZIFZETnZTeG9WTjBJdGtqUnZDN1FkbUZNZ25IdUpHQ1Yyo2NpZNkgZDIyNzcxdHZhUVhtRmROZHV6NHNoNXB2bFd1MEhEYkY&client=d22771tvaQXmFdNduz4sh5pvlWu0HDbF&protocol=samlp&SAMLRequest=jVJdbxoxEPwrJ7%2FfN%2BSCBUi0CAUpTUigaZWXyGebYMlf9a4hya%2FvcbRq8kL6ZGm8Mzsz2jEwoz2dRdzZe%2FkrSsDkxWgLtP%2BYkBgsdQwUUMuMBIqcrmffrmmVFdQHh447Td5RzjMYgAyonCXJcj4hT8VFWVeFELwRtWhrPqzay5EYbHndjLYFH9UFa5vLUjSCJA8yQMeckE6oowNEubSAzGIHFeUoLcu0qjblkNYDOhg%2BkmTepVGWYc%2FaIXqgea6EtKjwNVPCZ8haLVnMuDN5HzgXVdU0Je7Z3U%2BzEDcivg1gN%2FR7%2FSMWV%2FN2QZLZ3wxfnYVoZFjLsFdcfr%2B%2F%2FrflcDh8FFfGa3lckRsnopaZ3%2Fl%2BZQ6nt0oZhx4VcsuixhQ8SVZ%2FKv6irFD2%2BXy77WkI6NVms0pXt%2BsNmY6P2rRvK0z%2FswMjkQmG7NMyxvl79fHplm46X8v5ymnFX5OFC4bhedtHRIl0249SDMyC6vyRfHrS%2F3ie098%3D&RelayState=https%3A%2F%2Fwww.tableau.com%2Fabout%2Fblog%2F2013%2F3%2Ftableau-students-free-access-tableau-desktop-21617%3Fsignin%3Df1be7222b7673e88c2d615581e5afda2&SigAlg=http%3A%2F%2Fwww.w3.org%2F2001%2F04%2Fxmldsig-more%23rsa-sha256&Signature=hW9KNJOfTUV0V%2BM3bjHO4EqsKVwUHyyOoV7bpJkt0zrTUVgdTU8eLYit4vL4NJcHo0uqipO4gwGP%2F0TIAuk%2BcbVaKXX1YmQGT7ogAa1IrOnlvSMzRj3jHA%2Bkvbjc0drF0LegrKgrcIeZSI65We91vxkgLTOlXLDJ2WGZ5JXYAi4%3D\")"
   ]
  },
  {
   "cell_type": "code",
   "execution_count": 8,
   "metadata": {},
   "outputs": [],
   "source": [
    "driver.find_element_by_id(\"email\").send_keys(\" \")\n",
    "driver.find_element_by_id(\"password\").send_keys(\" \")\n",
    "driver.find_element_by_id(\"signInButton\").click()"
   ]
  },
  {
   "cell_type": "code",
   "execution_count": null,
   "metadata": {},
   "outputs": [],
   "source": []
  },
  {
   "cell_type": "code",
   "execution_count": null,
   "metadata": {},
   "outputs": [],
   "source": []
  },
  {
   "cell_type": "code",
   "execution_count": null,
   "metadata": {},
   "outputs": [],
   "source": []
  },
  {
   "cell_type": "code",
   "execution_count": null,
   "metadata": {},
   "outputs": [],
   "source": []
  },
  {
   "cell_type": "code",
   "execution_count": null,
   "metadata": {},
   "outputs": [],
   "source": []
  },
  {
   "cell_type": "code",
   "execution_count": null,
   "metadata": {},
   "outputs": [],
   "source": []
  }
 ],
 "metadata": {
  "kernelspec": {
   "display_name": "Python 3",
   "language": "python",
   "name": "python3"
  },
  "language_info": {
   "codemirror_mode": {
    "name": "ipython",
    "version": 3
   },
   "file_extension": ".py",
   "mimetype": "text/x-python",
   "name": "python",
   "nbconvert_exporter": "python",
   "pygments_lexer": "ipython3",
   "version": "3.7.4"
  }
 },
 "nbformat": 4,
 "nbformat_minor": 2
}
