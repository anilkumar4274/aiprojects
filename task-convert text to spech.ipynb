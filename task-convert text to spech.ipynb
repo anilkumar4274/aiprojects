{
 "cells": [
  {
   "cell_type": "code",
   "execution_count": 1,
   "metadata": {},
   "outputs": [],
   "source": [
    "# download executable from the below location and install\n",
    "# https://digi.bib.uni-mannheim.de/tesseract/tesseract-ocr-w64-setup-v5.0.0-alpha.20191030.exe"
   ]
  },
  {
   "cell_type": "code",
   "execution_count": 2,
   "metadata": {},
   "outputs": [],
   "source": [
    "import pytesseract"
   ]
  },
  {
   "cell_type": "code",
   "execution_count": 3,
   "metadata": {},
   "outputs": [],
   "source": [
    "from PIL import Image"
   ]
  },
  {
   "cell_type": "code",
   "execution_count": 4,
   "metadata": {},
   "outputs": [],
   "source": [
    "import pyttsx3 \n",
    "\n",
    "from googletrans import Translator       \n",
    "img = Image.open('C:\\\\Users\\\\shreya\\\\Desktop\\\\open\\\\images.png')"
   ]
  },
  {
   "cell_type": "code",
   "execution_count": 5,
   "metadata": {},
   "outputs": [
    {
     "name": "stdout",
     "output_type": "stream",
     "text": [
      "<PIL.PngImagePlugin.PngImageFile image mode=P size=640x480 at 0x23181B98828>\n"
     ]
    }
   ],
   "source": [
    "from googletrans import Translator       \n",
    "img = Image.open('C:\\\\Users\\\\shreya\\\\Desktop\\\\open\\\\images.png')\n",
    "print(img)                           \n"
   ]
  },
  {
   "cell_type": "code",
   "execution_count": 6,
   "metadata": {},
   "outputs": [],
   "source": [
    "pytesseract.pytesseract.tesseract_cmd =r'C:\\Users\\shreya\\Desktop\\tessaract\\tesseract'  "
   ]
  },
  {
   "cell_type": "code",
   "execution_count": 7,
   "metadata": {},
   "outputs": [
    {
     "name": "stdout",
     "output_type": "stream",
     "text": [
      "Project name one\n",
      "\n",
      "Super awesome\n",
      "marketing speak!\n",
      "\n",
      "Cras justo odio, dapibus ac facilisis in, egestas eget quam. Fusce dapibus,\n",
      "tellus ac cursus commodo, tortor mauris condimentum nibh, ut fermentum\n",
      "massa justo sit amet risus.\n",
      "\n",
      "Subheading Subheading\n",
      "‘Subheading Subheading\n",
      "\n",
      "Subh\n",
      "\n",
      " \n",
      "\n",
      "Subheading\n",
      "Translated(src=la, dest=en, text=One project name\n",
      "\n",
      "super awesome\n",
      "Marketing speak!\n",
      "\n",
      "Cras justo odio, dapibus ac facilisis in, egestas eget quam. Clinical protein;\n",
      "tellus ac cursus commodo, tortor mauris condimentum nibh, a kind of ferment\n",
      "mass just a lot of laughter.\n",
      "\n",
      "subheading subheading\n",
      "\"Subheading Subheading\n",
      "\n",
      "subh\n",
      "\n",
      " \n",
      "\n",
      "subheading, pronunciation=None, extra_data=\"{'translat...\")\n"
     ]
    }
   ],
   "source": [
    "result = pytesseract.image_to_string(img)\n",
    "with open('abc.txt',mode ='w') as file:\n",
    "    file.write(result) \n",
    "    print(result)         \n",
    "p = Translator()\n",
    "k = p.translate(result,dest='english')       \n",
    "print(k)\n",
    "engine = pyttsx3.init()\n",
    "engine.say(k)                              \n",
    "engine.runAndWait() "
   ]
  },
  {
   "cell_type": "code",
   "execution_count": null,
   "metadata": {},
   "outputs": [],
   "source": []
  },
  {
   "cell_type": "code",
   "execution_count": null,
   "metadata": {},
   "outputs": [],
   "source": []
  },
  {
   "cell_type": "code",
   "execution_count": null,
   "metadata": {},
   "outputs": [],
   "source": []
  }
 ],
 "metadata": {
  "kernelspec": {
   "display_name": "Python 3",
   "language": "python",
   "name": "python3"
  },
  "language_info": {
   "codemirror_mode": {
    "name": "ipython",
    "version": 3
   },
   "file_extension": ".py",
   "mimetype": "text/x-python",
   "name": "python",
   "nbconvert_exporter": "python",
   "pygments_lexer": "ipython3",
   "version": "3.7.3"
  }
 },
 "nbformat": 4,
 "nbformat_minor": 2
}
